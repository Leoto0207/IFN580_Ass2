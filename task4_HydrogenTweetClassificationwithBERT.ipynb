{
 "cells": [
  {
   "cell_type": "code",
   "execution_count": 56,
   "id": "89d69cdd",
   "metadata": {},
   "outputs": [],
   "source": [
    "import pandas as pd\n",
    "import re\n",
    "from sklearn.model_selection import train_test_split\n",
    "from sklearn.metrics import accuracy_score, precision_recall_fscore_support\n",
    "from sklearn.metrics import roc_auc_score, roc_curve\n",
    "import torch, gc\n",
    "from transformers import BertweetTokenizer, RobertaForSequenceClassification, Trainer, TrainingArguments\n",
    "from transformers import DataCollatorWithPadding, EarlyStoppingCallback\n",
    "# Load model directly \n",
    "# for using Twitter/twhin-bert-base \n",
    "from transformers import AutoTokenizer, AutoModelForSequenceClassification\n",
    "from transformers import TFAutoModelForSequenceClassification\n",
    "from transformers import AutoConfig\n",
    "#####################\n",
    "import numpy as np\n",
    "from scipy.special import softmax\n",
    "from datasets import Dataset\n",
    "import matplotlib.pyplot as plt\n",
    "import seaborn as sns"
   ]
  },
  {
   "cell_type": "code",
   "execution_count": 57,
   "id": "034e1c54",
   "metadata": {},
   "outputs": [
    {
     "name": "stdout",
     "output_type": "stream",
     "text": [
      "<class 'pandas.core.frame.DataFrame'>\n",
      "RangeIndex: 1000 entries, 0 to 999\n",
      "Data columns (total 2 columns):\n",
      " #   Column  Non-Null Count  Dtype \n",
      "---  ------  --------------  ----- \n",
      " 0   label   1000 non-null   object\n",
      " 1   text    1000 non-null   object\n",
      "dtypes: object(2)\n",
      "memory usage: 15.8+ KB\n"
     ]
    }
   ],
   "source": [
    "# Load the hydrogen dataset\n",
    "\n",
    "df = pd.read_csv(\"hydrogen_small.csv\")\n",
    "df.info()"
   ]
  },
  {
   "cell_type": "code",
   "execution_count": 58,
   "id": "dee5e7bb",
   "metadata": {},
   "outputs": [
    {
     "data": {
      "text/plain": [
       "array(['Relevant', 'Irrelevant'], dtype=object)"
      ]
     },
     "execution_count": 58,
     "metadata": {},
     "output_type": "execute_result"
    }
   ],
   "source": [
    "df[\"label\"].unique()"
   ]
  },
  {
   "cell_type": "code",
   "execution_count": 59,
   "id": "afc3b008",
   "metadata": {},
   "outputs": [
    {
     "data": {
      "text/plain": [
       "'behind the wheel of a hydrogen powered car'"
      ]
     },
     "execution_count": 59,
     "metadata": {},
     "output_type": "execute_result"
    }
   ],
   "source": [
    "df[\"text\"].iloc[0]"
   ]
  },
  {
   "cell_type": "code",
   "execution_count": 60,
   "id": "20743f87",
   "metadata": {},
   "outputs": [],
   "source": [
    "def clean_message(text):\n",
    "    # Remove URLs from the message. Match anything starting wtih \"http\", \"https\", or \"www\"\n",
    "    # followed by any non-whitespace characters (\\S).\n",
    "    text = re.sub(r\"http\\S+|www\\S+|https\\S+\", \"\", text)\n",
    "\n",
    "    # Remove any tags from the message. Matches the '@' symbol followed by any letters,\n",
    "    # numbers and underscores (\\w).\n",
    "    text = re.sub(r\"@\\w+\", \"\", text)\n",
    "\n",
    "    # Remove any non-ASCII characters from the text, such as emojis.\n",
    "    # If you were dealing with a dataset containing non-English/Latin text, then you would\n",
    "    # want to change this regular expression.\n",
    "    # text = re.sub(r\"[^\\x00-\\x7F]+\", \"\", text)\n",
    "\n",
    "    # Replace any sequences of consecutive whitespace with a single space character.\n",
    "    # This includes newlines and spaces.\n",
    "    text = re.sub(r\"\\s+\", \" \", text)\n",
    "\n",
    "    # Finally, remove any leading or trailing whitespace with the strip() function.\n",
    "    return text.strip()"
   ]
  },
  {
   "cell_type": "code",
   "execution_count": 61,
   "id": "4c2f6a3b",
   "metadata": {},
   "outputs": [],
   "source": [
    "df[\"text\"] = df[\"text\"].apply(clean_message)"
   ]
  },
  {
   "cell_type": "code",
   "execution_count": 62,
   "id": "13ab2026",
   "metadata": {},
   "outputs": [
    {
     "data": {
      "text/plain": [
       "'behind the wheel of a hydrogen powered car'"
      ]
     },
     "execution_count": 62,
     "metadata": {},
     "output_type": "execute_result"
    }
   ],
   "source": [
    "df[\"text\"].iloc[0]"
   ]
  },
  {
   "cell_type": "code",
   "execution_count": 63,
   "id": "ecd4519e",
   "metadata": {},
   "outputs": [],
   "source": [
    "df[\"label\"] = df[\"label\"].map({\n",
    "    \"Irrelevant\": 0, # Negative = 0\n",
    "    \"Relevant\": 1  # Positive = 1\n",
    "})"
   ]
  },
  {
   "cell_type": "code",
   "execution_count": 64,
   "id": "0e2e0d45",
   "metadata": {},
   "outputs": [
    {
     "data": {
      "text/plain": [
       "array([1, 0])"
      ]
     },
     "execution_count": 64,
     "metadata": {},
     "output_type": "execute_result"
    }
   ],
   "source": [
    "df[\"label\"].unique()"
   ]
  },
  {
   "cell_type": "code",
   "execution_count": 65,
   "id": "781181bf",
   "metadata": {},
   "outputs": [
    {
     "data": {
      "text/html": [
       "<div>\n",
       "<style scoped>\n",
       "    .dataframe tbody tr th:only-of-type {\n",
       "        vertical-align: middle;\n",
       "    }\n",
       "\n",
       "    .dataframe tbody tr th {\n",
       "        vertical-align: top;\n",
       "    }\n",
       "\n",
       "    .dataframe thead th {\n",
       "        text-align: right;\n",
       "    }\n",
       "</style>\n",
       "<table border=\"1\" class=\"dataframe\">\n",
       "  <thead>\n",
       "    <tr style=\"text-align: right;\">\n",
       "      <th></th>\n",
       "      <th>label</th>\n",
       "      <th>text</th>\n",
       "    </tr>\n",
       "  </thead>\n",
       "  <tbody>\n",
       "    <tr>\n",
       "      <th>1</th>\n",
       "      <td>0</td>\n",
       "      <td>mls measurements of stratospheric hydrogen cya...</td>\n",
       "    </tr>\n",
       "    <tr>\n",
       "      <th>8</th>\n",
       "      <td>0</td>\n",
       "      <td>the cave nebula in hydrogen oxygen and sulfur ...</td>\n",
       "    </tr>\n",
       "    <tr>\n",
       "      <th>10</th>\n",
       "      <td>0</td>\n",
       "      <td>daytradingz smoke drifts up right now from the...</td>\n",
       "    </tr>\n",
       "    <tr>\n",
       "      <th>15</th>\n",
       "      <td>0</td>\n",
       "      <td>good day everyone how is that science coming a...</td>\n",
       "    </tr>\n",
       "    <tr>\n",
       "      <th>17</th>\n",
       "      <td>0</td>\n",
       "      <td>there s no rainbow trout on mars —yvon chouina...</td>\n",
       "    </tr>\n",
       "  </tbody>\n",
       "</table>\n",
       "</div>"
      ],
      "text/plain": [
       "    label                                               text\n",
       "1       0  mls measurements of stratospheric hydrogen cya...\n",
       "8       0  the cave nebula in hydrogen oxygen and sulfur ...\n",
       "10      0  daytradingz smoke drifts up right now from the...\n",
       "15      0  good day everyone how is that science coming a...\n",
       "17      0  there s no rainbow trout on mars —yvon chouina..."
      ]
     },
     "execution_count": 65,
     "metadata": {},
     "output_type": "execute_result"
    }
   ],
   "source": [
    "df[df[\"label\"] == 0].head(5)"
   ]
  },
  {
   "cell_type": "code",
   "execution_count": 66,
   "id": "c3e06b7e",
   "metadata": {},
   "outputs": [
    {
     "data": {
      "text/html": [
       "<div>\n",
       "<style scoped>\n",
       "    .dataframe tbody tr th:only-of-type {\n",
       "        vertical-align: middle;\n",
       "    }\n",
       "\n",
       "    .dataframe tbody tr th {\n",
       "        vertical-align: top;\n",
       "    }\n",
       "\n",
       "    .dataframe thead th {\n",
       "        text-align: right;\n",
       "    }\n",
       "</style>\n",
       "<table border=\"1\" class=\"dataframe\">\n",
       "  <thead>\n",
       "    <tr style=\"text-align: right;\">\n",
       "      <th></th>\n",
       "      <th>label</th>\n",
       "      <th>text</th>\n",
       "    </tr>\n",
       "  </thead>\n",
       "  <tbody>\n",
       "    <tr>\n",
       "      <th>0</th>\n",
       "      <td>1</td>\n",
       "      <td>behind the wheel of a hydrogen powered car</td>\n",
       "    </tr>\n",
       "    <tr>\n",
       "      <th>2</th>\n",
       "      <td>1</td>\n",
       "      <td>ana gonzalez hernandez shares an overview of h...</td>\n",
       "    </tr>\n",
       "    <tr>\n",
       "      <th>3</th>\n",
       "      <td>1</td>\n",
       "      <td>toyota is giving away its first hydrogen car i...</td>\n",
       "    </tr>\n",
       "    <tr>\n",
       "      <th>4</th>\n",
       "      <td>1</td>\n",
       "      <td>agility develops storage systems for hydrogen ...</td>\n",
       "    </tr>\n",
       "    <tr>\n",
       "      <th>5</th>\n",
       "      <td>1</td>\n",
       "      <td>we are diversifying our energy basket with gas...</td>\n",
       "    </tr>\n",
       "  </tbody>\n",
       "</table>\n",
       "</div>"
      ],
      "text/plain": [
       "   label                                               text\n",
       "0      1         behind the wheel of a hydrogen powered car\n",
       "2      1  ana gonzalez hernandez shares an overview of h...\n",
       "3      1  toyota is giving away its first hydrogen car i...\n",
       "4      1  agility develops storage systems for hydrogen ...\n",
       "5      1  we are diversifying our energy basket with gas..."
      ]
     },
     "execution_count": 66,
     "metadata": {},
     "output_type": "execute_result"
    }
   ],
   "source": [
    "df[df[\"label\"] == 1].head(5)"
   ]
  },
  {
   "cell_type": "code",
   "execution_count": 67,
   "id": "c61d08ae",
   "metadata": {},
   "outputs": [
    {
     "data": {
      "text/plain": [
       "label\n",
       "1    547\n",
       "0    453\n",
       "Name: count, dtype: int64"
      ]
     },
     "execution_count": 67,
     "metadata": {},
     "output_type": "execute_result"
    }
   ],
   "source": [
    "df[\"label\"].value_counts()"
   ]
  },
  {
   "cell_type": "markdown",
   "id": "7854ed1b",
   "metadata": {},
   "source": [
    "SPLITTING TRAIN/TEST"
   ]
  },
  {
   "cell_type": "code",
   "execution_count": 68,
   "id": "1f7ee656",
   "metadata": {},
   "outputs": [],
   "source": [
    "X = df[\"text\"].values\n",
    "y = df[\"label\"].values"
   ]
  },
  {
   "cell_type": "code",
   "execution_count": 69,
   "id": "44ed35ef",
   "metadata": {},
   "outputs": [
    {
     "name": "stdout",
     "output_type": "stream",
     "text": [
      "Training set size: 700\n",
      "Testing set size: 300\n"
     ]
    }
   ],
   "source": [
    "random_state = 42\n",
    "\n",
    "X_train, X_test, y_train, y_test = train_test_split(X, y, stratify=y, test_size=0.3, random_state=random_state)\n",
    "print(\"Training set size:\", len(X_train))\n",
    "print(\"Testing set size:\", len(X_test))"
   ]
  },
  {
   "cell_type": "markdown",
   "id": "9102a049",
   "metadata": {},
   "source": [
    "TOKENIZING DATA"
   ]
  },
  {
   "cell_type": "code",
   "execution_count": 70,
   "id": "cb7cb1ae",
   "metadata": {},
   "outputs": [],
   "source": [
    "train_df = pd.DataFrame({\"text\": X_train, \"label\": y_train})\n",
    "test_df = pd.DataFrame({\"text\": X_test, \"label\": y_test})\n",
    "train_ds = Dataset.from_pandas(train_df)\n",
    "test_ds = Dataset.from_pandas(test_df)"
   ]
  },
  {
   "cell_type": "code",
   "execution_count": 71,
   "id": "585edbe5",
   "metadata": {},
   "outputs": [
    {
     "name": "stdout",
     "output_type": "stream",
     "text": [
      "Train dataset: Dataset({\n",
      "    features: ['text', 'label'],\n",
      "    num_rows: 700\n",
      "})\n",
      "Test dataset: Dataset({\n",
      "    features: ['text', 'label'],\n",
      "    num_rows: 300\n",
      "})\n"
     ]
    }
   ],
   "source": [
    "print(\"Train dataset:\", train_ds)\n",
    "print(\"Test dataset:\", test_ds)"
   ]
  },
  {
   "cell_type": "markdown",
   "id": "f51cdee9-2a9a-4f5b-9ffa-0a88a7bfc2fd",
   "metadata": {},
   "source": [
    "# Bertweet-base"
   ]
  },
  {
   "cell_type": "code",
   "execution_count": 72,
   "id": "546b4a4d",
   "metadata": {},
   "outputs": [
    {
     "name": "stderr",
     "output_type": "stream",
     "text": [
      "emoji is not installed, thus not converting emoticons or emojis into text. Install emoji: pip3 install emoji==0.6.0\n"
     ]
    }
   ],
   "source": [
    "model_name = \"vinai/bertweet-base\"\n",
    "tokenizer = BertweetTokenizer.from_pretrained(model_name)"
   ]
  },
  {
   "cell_type": "code",
   "execution_count": 73,
   "id": "5f3899fa",
   "metadata": {},
   "outputs": [
    {
     "data": {
      "application/vnd.jupyter.widget-view+json": {
       "model_id": "63b0eb266ded402b9a3dc27b5a97a400",
       "version_major": 2,
       "version_minor": 0
      },
      "text/plain": [
       "Map:   0%|          | 0/700 [00:00<?, ? examples/s]"
      ]
     },
     "metadata": {},
     "output_type": "display_data"
    },
    {
     "name": "stderr",
     "output_type": "stream",
     "text": [
      "Asking to truncate to max_length but no maximum length is provided and the model has no predefined maximum length. Default to no truncation.\n"
     ]
    },
    {
     "data": {
      "application/vnd.jupyter.widget-view+json": {
       "model_id": "208d071ffdaa44e7a5a1aa01e39f03ae",
       "version_major": 2,
       "version_minor": 0
      },
      "text/plain": [
       "Map:   0%|          | 0/300 [00:00<?, ? examples/s]"
      ]
     },
     "metadata": {},
     "output_type": "display_data"
    }
   ],
   "source": [
    "# Function that is applied to all samples in the dataset.\n",
    "def tokenize(batch):\n",
    "    # We set truncation=True to truncate (cut off) messages that are too long.\n",
    "    # NOTE: Not all models require this, you may get a warning indicating that it has no effect.\n",
    "    # Padding is set to True if the model requires a fixed sequence length.\n",
    "    return tokenizer(batch['text'], truncation=True, padding=True)\n",
    "\n",
    "# Apply to both the training and testing datasets.\n",
    "# We set batched to True which can enable parallel processing, however on my machine I found\n",
    "# it did not scale to a greater number of threads.\n",
    "train_ds = train_ds.map(tokenize, batched=True)\n",
    "test_ds = test_ds.map(tokenize, batched=True)"
   ]
  },
  {
   "cell_type": "code",
   "execution_count": 74,
   "id": "d0f73acc",
   "metadata": {},
   "outputs": [
    {
     "data": {
      "text/plain": [
       "Dataset({\n",
       "    features: ['text', 'label', 'input_ids', 'token_type_ids', 'attention_mask'],\n",
       "    num_rows: 700\n",
       "})"
      ]
     },
     "execution_count": 74,
     "metadata": {},
     "output_type": "execute_result"
    }
   ],
   "source": [
    "train_ds"
   ]
  },
  {
   "cell_type": "markdown",
   "id": "da896ebd",
   "metadata": {},
   "source": [
    "DOWNLOADING THE ROBERTA MODEL"
   ]
  },
  {
   "cell_type": "code",
   "execution_count": 75,
   "id": "4af28a20",
   "metadata": {},
   "outputs": [
    {
     "name": "stderr",
     "output_type": "stream",
     "text": [
      "Some weights of RobertaForSequenceClassification were not initialized from the model checkpoint at vinai/bertweet-base and are newly initialized: ['classifier.dense.bias', 'classifier.dense.weight', 'classifier.out_proj.bias', 'classifier.out_proj.weight']\n",
      "You should probably TRAIN this model on a down-stream task to be able to use it for predictions and inference.\n"
     ]
    }
   ],
   "source": [
    "# Ensure the resources for any existing model has been freed.\n",
    "try:\n",
    "    del model\n",
    "except NameError:\n",
    "    pass\n",
    "\n",
    "# Download/load the base model. We use the \"vinai/bertweet-base\" model here.\n",
    "# Set the number of labels to the number of unique labels in the dataframe, which is 2.\n",
    "# Set the problem type to single label classification, since we want one class for each sample.\n",
    "model = RobertaForSequenceClassification.from_pretrained(\n",
    "    model_name,\n",
    "    num_labels=df[\"label\"].nunique(),\n",
    "    problem_type=\"single_label_classification\")"
   ]
  },
  {
   "cell_type": "markdown",
   "id": "25f66f28",
   "metadata": {},
   "source": [
    "TRAINING THE MODEL\n"
   ]
  },
  {
   "cell_type": "code",
   "execution_count": 76,
   "id": "39819d04",
   "metadata": {},
   "outputs": [],
   "source": [
    "def compute_metrics(pred):\n",
    "    labels = pred.label_ids\n",
    "    preds = pred.predictions.argmax(-1)\n",
    "    acc = accuracy_score(labels, preds)\n",
    "    prec, recall, f1, _ = precision_recall_fscore_support(\n",
    "        labels, preds, average=\"binary\", pos_label=1)\n",
    "    return {\n",
    "        \"accuracy\": acc,\n",
    "        \"precision\": prec,\n",
    "        \"recall\": recall,\n",
    "        \"f1\": f1\n",
    "    }"
   ]
  },
  {
   "cell_type": "markdown",
   "id": "ddaf415c",
   "metadata": {},
   "source": [
    "Hyperparameter Tuning"
   ]
  },
  {
   "cell_type": "code",
   "execution_count": 77,
   "id": "7eabd6a0",
   "metadata": {},
   "outputs": [
    {
     "name": "stderr",
     "output_type": "stream",
     "text": [
      "/opt/anaconda3/lib/python3.12/site-packages/torch/utils/data/dataloader.py:692: UserWarning: 'pin_memory' argument is set as true but not supported on MPS now, device pinned memory won't be used.\n",
      "  warnings.warn(warn_msg)\n"
     ]
    },
    {
     "data": {
      "text/html": [
       "\n",
       "    <div>\n",
       "      \n",
       "      <progress value='88' max='88' style='width:300px; height:20px; vertical-align: middle;'></progress>\n",
       "      [88/88 00:56, Epoch 2/2]\n",
       "    </div>\n",
       "    <table border=\"1\" class=\"dataframe\">\n",
       "  <thead>\n",
       " <tr style=\"text-align: left;\">\n",
       "      <th>Epoch</th>\n",
       "      <th>Training Loss</th>\n",
       "      <th>Validation Loss</th>\n",
       "      <th>Accuracy</th>\n",
       "      <th>Precision</th>\n",
       "      <th>Recall</th>\n",
       "      <th>F1</th>\n",
       "    </tr>\n",
       "  </thead>\n",
       "  <tbody>\n",
       "    <tr>\n",
       "      <td>1</td>\n",
       "      <td>0.479100</td>\n",
       "      <td>0.349763</td>\n",
       "      <td>0.910000</td>\n",
       "      <td>0.887006</td>\n",
       "      <td>0.957317</td>\n",
       "      <td>0.920821</td>\n",
       "    </tr>\n",
       "    <tr>\n",
       "      <td>2</td>\n",
       "      <td>0.235500</td>\n",
       "      <td>0.266681</td>\n",
       "      <td>0.910000</td>\n",
       "      <td>0.878453</td>\n",
       "      <td>0.969512</td>\n",
       "      <td>0.921739</td>\n",
       "    </tr>\n",
       "  </tbody>\n",
       "</table><p>"
      ],
      "text/plain": [
       "<IPython.core.display.HTML object>"
      ]
     },
     "metadata": {},
     "output_type": "display_data"
    },
    {
     "name": "stderr",
     "output_type": "stream",
     "text": [
      "/opt/anaconda3/lib/python3.12/site-packages/torch/utils/data/dataloader.py:692: UserWarning: 'pin_memory' argument is set as true but not supported on MPS now, device pinned memory won't be used.\n",
      "  warnings.warn(warn_msg)\n",
      "/opt/anaconda3/lib/python3.12/site-packages/torch/utils/data/dataloader.py:692: UserWarning: 'pin_memory' argument is set as true but not supported on MPS now, device pinned memory won't be used.\n",
      "  warnings.warn(warn_msg)\n"
     ]
    },
    {
     "data": {
      "text/html": [],
      "text/plain": [
       "<IPython.core.display.HTML object>"
      ]
     },
     "metadata": {},
     "output_type": "display_data"
    },
    {
     "name": "stderr",
     "output_type": "stream",
     "text": [
      "/opt/anaconda3/lib/python3.12/site-packages/torch/utils/data/dataloader.py:692: UserWarning: 'pin_memory' argument is set as true but not supported on MPS now, device pinned memory won't be used.\n",
      "  warnings.warn(warn_msg)\n"
     ]
    },
    {
     "name": "stdout",
     "output_type": "stream",
     "text": [
      "Training Set Accuracy: 0.937\n",
      "Training Set Precision: 0.905\n",
      "Training Set Recall: 0.99\n",
      "Training Set F1 score: 0.945\n",
      "Testing Set Accuracy: 0.91\n",
      "Testing Set Precision: 0.878\n",
      "Testing Set Recall: 0.97\n",
      "Testing Set F1 score: 0.922\n"
     ]
    }
   ],
   "source": [
    "training_args = TrainingArguments(\n",
    "    output_dir=\"./results\",\n",
    "    num_train_epochs=2,\n",
    "    per_device_train_batch_size=16,\n",
    "    per_device_eval_batch_size=64,\n",
    "    eval_strategy=\"epoch\",\n",
    "    save_strategy=\"epoch\",\n",
    "    learning_rate=2e-5,\n",
    "    weight_decay=0.01,\n",
    "    logging_dir=\"./logs\",\n",
    "    logging_steps=10\n",
    ")\n",
    "\n",
    "# Switch the model to training mode, enabling dropout etc layers.\n",
    "model.train()\n",
    "\n",
    "trainer = Trainer(\n",
    "    model=model,\n",
    "    args=training_args,\n",
    "    train_dataset=train_ds,\n",
    "    eval_dataset=test_ds,\n",
    "    processing_class=tokenizer,\n",
    "    data_collator=DataCollatorWithPadding(tokenizer),\n",
    "    compute_metrics=compute_metrics\n",
    ")\n",
    "\n",
    "trainer.train()\n",
    "\n",
    "# Model evaluation\n",
    "# Switch the model to evaluation mode, disabling dropout etc layers.\n",
    "model.eval()\n",
    "# Evaluate the datasets.\n",
    "train_results = trainer.evaluate(train_ds)\n",
    "test_results = trainer.evaluate(test_ds)\n",
    "def display_evaluation(setname, results):\n",
    "    print(f\"{setname} Set Accuracy:\", round(results[\"eval_accuracy\"], 3))\n",
    "    print(f\"{setname} Set Precision:\", round(results[\"eval_precision\"], 3))\n",
    "    print(f\"{setname} Set Recall:\", round(results[\"eval_recall\"], 3))\n",
    "    print(f\"{setname} Set F1 score:\", round(results[\"eval_f1\"], 3))\n",
    "display_evaluation(\"Training\", train_results)\n",
    "display_evaluation(\"Testing\", test_results)\n",
    "\n"
   ]
  },
  {
   "cell_type": "markdown",
   "id": "33c03218-4621-4fbf-ad61-8ae62005a4aa",
   "metadata": {},
   "source": [
    "# Early Stopping"
   ]
  },
  {
   "cell_type": "code",
   "execution_count": 78,
   "id": "c6113c13-36cf-4dc1-8c5a-8ca1f458e0c5",
   "metadata": {},
   "outputs": [],
   "source": [
    "_, X_small, _, y_small = train_test_split(X, y, stratify=y, random_state=random_state)\n",
    "X_small_train, X_small_test, y_small_train, y_small_test = train_test_split(\n",
    "    X_small, y_small, stratify=y_small, test_size=0.3, random_state=random_state)\n",
    "small_train_df = pd.DataFrame({\"text\": X_small_train, \"label\": y_small_train})\n",
    "small_test_df = pd.DataFrame({\"text\": X_small_test, \"label\": y_small_test})\n",
    "small_train_ds = Dataset.from_pandas(small_train_df)\n",
    "small_test_ds = Dataset.from_pandas(small_test_df)\n",
    "small_train_ds = small_train_ds.map(tokenize, batched=True)\n",
    "small_test_ds = small_test_ds.map(tokenize, batched=True)\n",
    "print(\"Small training set size:\", len(small_train_df))\n",
    "print(\"Small testing set size:\", len(small_test_df))\n",
    "\n",
    "small_model = RobertaForSequenceClassification.from_pretrained(\n",
    "    model_name,\n",
    "    num_labels=df_subsampled[\"label\"].nunique(),\n",
    "    problem_type=\"single_label_classification\")\n",
    "small_model.train()\n",
    "\n",
    "small_training_args = TrainingArguments(\n",
    "    output_dir=\"./results\",\n",
    "    num_train_epochs=50,\n",
    "    per_device_train_batch_size=16,\n",
    "    per_device_eval_batch_size=64,\n",
    "    eval_strategy=\"epoch\",\n",
    "    save_strategy=\"epoch\",\n",
    "    learning_rate=2e-5,\n",
    "    weight_decay=0.01,\n",
    "    logging_dir=\"./logs\",\n",
    "    logging_steps=10,\n",
    "    # Added for early stopping.\n",
    "training_args2 = TrainingArguments(\n",
    "    output_dir=\"./results\",\n",
    "    num_train_epochs=50,\n",
    "    per_device_train_batch_size=16,\n",
    "    per_device_eval_batch_size=64,\n",
    "    eval_strategy=\"epoch\",\n",
    "    save_strategy=\"epoch\",\n",
    "    learning_rate=2e-5,\n",
    "    weight_decay=0.01,\n",
    "    logging_dir=\"./logs\",\n",
    "    logging_steps=10,\n",
    "    metric_for_best_model = \"loss\",\n",
    "    load_best_model_at_end = True\n",
    ")\n",
    "\n",
    "\n",
    "trainer2 = Trainer(\n",
    "    model=model,\n",
    "    args=training_args2,\n",
    "    train_dataset=train_ds,\n",
    "    eval_dataset=test_ds,\n",
    "    processing_class=tokenizer,\n",
    "    data_collator=DataCollatorWithPadding(tokenizer),\n",
    "    compute_metrics=compute_metrics,\n",
    "    callbacks = [EarlyStoppingCallback(early_stopping_patience=3)],\n",
    ")\n",
    "trainer2.train()"
   ]
  },
  {
   "cell_type": "markdown",
   "id": "2ee517f1-dad7-4a3d-a1b4-3ddc13a0f2b7",
   "metadata": {},
   "source": [
    "# Examining Attention Weights"
   ]
  },
  {
   "cell_type": "code",
   "execution_count": 79,
   "id": "50a647d6-3dee-41f9-b352-61190c34233f",
   "metadata": {},
   "outputs": [],
   "source": [
    "# Returns (matrix, tokens)\n",
    "def compute_attention_matrix(tokenizer, model, text):\n",
    "    # Feed into the model, you could also grab the token embedding directly\n",
    "    # from the dataset, in which case this step would be unnecessary. We want\n",
    "    # the output in Tensor format that we can feed to the model, so we use\n",
    "    # return_tensors=\"pt\" (PyTorch Tensor). Lastly, send the tensor to\n",
    "    # whichever device the model is located on. This is unnecessary if you\n",
    "    # are running purely on the CPU, but needed for models on GPUs.\n",
    "    tokens = tokenizer(text, return_tensors=\"pt\").to(model.device)\n",
    "    # We use torch.no_grad() to ensure the weights in the model are unchanged.\n",
    "    with torch.no_grad():\n",
    "        pred = model(**tokens, output_attentions=True)\n",
    "    # Stack layers. Depending on your model, this may have no effect.\n",
    "    # Move it back to the GPU if it was previously on the GPU.\n",
    "    attentions = torch.stack(pred.attentions).cpu()\n",
    "    # Remove the batch dimension, as there is only a zero value there.\n",
    "    attentions = attentions.squeeze(1)\n",
    "    # Average over the transformer layers and heads.\n",
    "    attentions = attentions.mean(dim=0).mean(dim=0)\n",
    "    # attentions now contains a matrix of importance from every token to every\n",
    "    # other token. e.g. if the message contained 10 tokens, it would be 10x10.\n",
    "    # Select the predicted class.\n",
    "    pred_class = pred.logits.cpu().argmax(-1).item()\n",
    "    # Also return a string representation of the tokens in the message.\n",
    "    # Plotting the integer token IDs would not be very meaningful.\n",
    "    token_strs = tokenizer.convert_ids_to_tokens(tokens[\"input_ids\"][0])\n",
    "    return (attentions, pred_class, token_strs)"
   ]
  },
  {
   "cell_type": "code",
   "execution_count": 80,
   "id": "4e128ea8-efe7-4e5f-923c-50961f2a5315",
   "metadata": {},
   "outputs": [],
   "source": [
    "def plot_attention(attentions, tokens, title):\n",
    "# Enlarge figure to take up more of the width.\n",
    "    plt.figure(figsize=(10, 8))\n",
    "    plt.title(title)\n",
    "    # Plot heatmap.\n",
    "    sns.heatmap(\n",
    "    attentions, # Plot our attention matrix.\n",
    "    xticklabels=tokens, # Display token names on X axis.\n",
    "    yticklabels=tokens, # Display token names on Y axis.\n",
    "    cmap='binary', # Black for low, white for high\n",
    "    cbar=True # Display colour bar.\n",
    "    )\n",
    "    plt.show()"
   ]
  },
  {
   "cell_type": "code",
   "execution_count": 81,
   "id": "c3f754bc-1ab4-4821-b857-7bbe418cd3b5",
   "metadata": {},
   "outputs": [],
   "source": [
    "def display_attention_matrix(tokenizer, model, text):\n",
    "    attention, pred_class, tokens = compute_attention_matrix(tokenizer, model, text)\n",
    "    pred_label = \"Positive\" if pred_class == 1 else \"Negative\"\n",
    "    plot_attention(attention, tokens, text + f\"\\nPredicted class: {pred_label}\")\n"
   ]
  },
  {
   "cell_type": "code",
   "execution_count": 82,
   "id": "51e4c827-ce32-4915-b04d-b17a969b923f",
   "metadata": {},
   "outputs": [
    {
     "data": {
      "image/png": "[encoded data removed]",
      "text/plain": [
       "<Figure size 1000x800 with 2 Axes>"
      ]
     },
     "metadata": {},
     "output_type": "display_data"
    },
    {
     "data": {
      "image/png": "[encoded data removed]",
      "text/plain": [
       "<Figure size 1000x800 with 2 Axes>"
      ]
     },
     "metadata": {},
     "output_type": "display_data"
    }
   ],
   "source": [
    "display_attention_matrix(tokenizer, model, \"behind the wheel of a hydrogen powered car\")\n",
    "display_attention_matrix(tokenizer, model, \"mls measurements of stratospheric hydrogen cyanide during the ‚Äì el ni√±o event\")"
   ]
  },
  {
   "cell_type": "markdown",
   "id": "6ca57ca1-3112-4132-91aa-1affd95bb19a",
   "metadata": {},
   "source": [
    "# clean the cache"
   ]
  },
  {
   "cell_type": "code",
   "execution_count": 83,
   "id": "b2f8c43a-1a81-467f-8dc5-24c1cdd99a7e",
   "metadata": {},
   "outputs": [],
   "source": [
    "\n",
    "# del model\n",
    "# del tokenizer\n",
    "# gc.collect()\n",
    "# # clear the cache\n",
    "# if torch.cuda.is_available():\n",
    "#     torch.cuda.empty_cache()\n",
    "#     torch.cuda.ipc_collect()"
   ]
  },
  {
   "cell_type": "markdown",
   "id": "e91e316a-7357-44af-aef4-956143db5365",
   "metadata": {},
   "source": [
    "# twitter/twhin-bert-base"
   ]
  },
  {
   "cell_type": "code",
   "execution_count": 84,
   "id": "c7b48c2b-18ae-4315-a2da-a4767c8a8755",
   "metadata": {},
   "outputs": [
    {
     "name": "stdout",
     "output_type": "stream",
     "text": [
      "Train dataset: Dataset({\n",
      "    features: ['text', 'label'],\n",
      "    num_rows: 700\n",
      "})\n",
      "Test dataset: Dataset({\n",
      "    features: ['text', 'label'],\n",
      "    num_rows: 300\n",
      "})\n"
     ]
    }
   ],
   "source": [
    "# data tokenized\n",
    "train_df2 = pd.DataFrame({\"text\": X_train, \"label\": y_train})\n",
    "test_df2 = pd.DataFrame({\"text\": X_test, \"label\": y_test})\n",
    "train_ds2 = Dataset.from_pandas(train_df2)\n",
    "test_ds2 = Dataset.from_pandas(test_df2)\n",
    "print(\"Train dataset:\", train_ds2)\n",
    "print(\"Test dataset:\", test_ds2)\n",
    "\n",
    "# model\n",
    "model_name2 = \"Twitter/twhin-bert-base\"\n",
    "tokenizer2 = AutoTokenizer.from_pretrained(model_name2)\n",
    "# Preprocess text (username and link placeholders)\n",
    " \n"
   ]
  },
  {
   "cell_type": "code",
   "execution_count": 85,
   "id": "94bd36c4-49b0-44b0-88f2-cdfa03a742b5",
   "metadata": {},
   "outputs": [
    {
     "data": {
      "application/vnd.jupyter.widget-view+json": {
       "model_id": "81be37e0f43e4c8581aa90e446214586",
       "version_major": 2,
       "version_minor": 0
      },
      "text/plain": [
       "Map:   0%|          | 0/700 [00:00<?, ? examples/s]"
      ]
     },
     "metadata": {},
     "output_type": "display_data"
    },
    {
     "data": {
      "application/vnd.jupyter.widget-view+json": {
       "model_id": "c361cf5f9bf542e09473cba620951561",
       "version_major": 2,
       "version_minor": 0
      },
      "text/plain": [
       "Map:   0%|          | 0/300 [00:00<?, ? examples/s]"
      ]
     },
     "metadata": {},
     "output_type": "display_data"
    }
   ],
   "source": [
    "# Function that is applied to all samples in the dataset.\n",
    "def tokenize2(batch):\n",
    "    # We set truncation=True to truncate (cut off) messages that are too long.\n",
    "    # NOTE: Not all models require this, you may get a warning indicating that it has no effect.\n",
    "    # Padding is set to True if the model requires a fixed sequence length.\n",
    "    return tokenizer2(batch['text'], truncation=True, padding=True, max_length=128)\n",
    "\n",
    "# Apply to both the training and testing datasets.\n",
    "# We set batched to True which can enable parallel processing, however on my machine I found\n",
    "# it did not scale to a greater number of threads.\n",
    "train_ds2 = train_ds2.map(tokenize2, batched=True)\n",
    "test_ds2 = test_ds2.map(tokenize2, batched=True)"
   ]
  },
  {
   "cell_type": "code",
   "execution_count": 86,
   "id": "850fa621-7770-4a64-8766-48cb1a985f11",
   "metadata": {},
   "outputs": [
    {
     "data": {
      "text/plain": [
       "Dataset({\n",
       "    features: ['text', 'label', 'input_ids', 'attention_mask'],\n",
       "    num_rows: 700\n",
       "})"
      ]
     },
     "execution_count": 86,
     "metadata": {},
     "output_type": "execute_result"
    }
   ],
   "source": [
    "train_ds2"
   ]
  },
  {
   "cell_type": "code",
   "execution_count": 87,
   "id": "5247d780-f3a4-4097-8e4d-d6dbccd22a30",
   "metadata": {},
   "outputs": [
    {
     "name": "stderr",
     "output_type": "stream",
     "text": [
      "Some weights of BertForSequenceClassification were not initialized from the model checkpoint at Twitter/twhin-bert-base and are newly initialized: ['bert.pooler.dense.bias', 'bert.pooler.dense.weight', 'classifier.bias', 'classifier.weight']\n",
      "You should probably TRAIN this model on a down-stream task to be able to use it for predictions and inference.\n"
     ]
    }
   ],
   "source": [
    "try:\n",
    "    del model2\n",
    "except NameError:\n",
    "    pass\n",
    "\n",
    "# Download/load the base model. We use the \"vinai/bertweet-base\" model here.\n",
    "# Set the number of labels to the number of unique labels in the dataframe, which is 2.\n",
    "# Set the problem type to single label classification, since we want one class for each sample.\n",
    "model2 = AutoModelForSequenceClassification.from_pretrained(\n",
    "    model_name2,\n",
    "    num_labels=df[\"label\"].nunique(),\n",
    "    problem_type=\"single_label_classification\",\n",
    "    ignore_mismatched_sizes=True\n",
    ")"
   ]
  },
  {
   "cell_type": "code",
   "execution_count": 88,
   "id": "715e67da-a49c-4e37-8a4d-7b88c7655b47",
   "metadata": {},
   "outputs": [],
   "source": [
    "def compute_metrics2(pred):\n",
    "    labels = pred.label_ids\n",
    "    preds = pred.predictions.argmax(-1)\n",
    "    acc = accuracy_score(labels, preds)\n",
    "    prec, recall, f1, _ = precision_recall_fscore_support(\n",
    "        labels, preds, average=\"binary\", pos_label=1)\n",
    "    return {\n",
    "        \"accuracy\": acc,\n",
    "        \"precision\": prec,\n",
    "        \"recall\": recall,\n",
    "        \"f1\": f1\n",
    "    }"
   ]
  },
  {
   "cell_type": "code",
   "execution_count": 89,
   "id": "400535a5-8b61-4de3-b308-4c632b33fedf",
   "metadata": {},
   "outputs": [
    {
     "name": "stderr",
     "output_type": "stream",
     "text": [
      "/opt/anaconda3/lib/python3.12/site-packages/torch/utils/data/dataloader.py:692: UserWarning: 'pin_memory' argument is set as true but not supported on MPS now, device pinned memory won't be used.\n",
      "  warnings.warn(warn_msg)\n"
     ]
    },
    {
     "data": {
      "text/html": [
       "\n",
       "    <div>\n",
       "      \n",
       "      <progress value='176' max='176' style='width:300px; height:20px; vertical-align: middle;'></progress>\n",
       "      [176/176 06:30, Epoch 4/4]\n",
       "    </div>\n",
       "    <table border=\"1\" class=\"dataframe\">\n",
       "  <thead>\n",
       " <tr style=\"text-align: left;\">\n",
       "      <th>Epoch</th>\n",
       "      <th>Training Loss</th>\n",
       "      <th>Validation Loss</th>\n",
       "      <th>Accuracy</th>\n",
       "      <th>Precision</th>\n",
       "      <th>Recall</th>\n",
       "      <th>F1</th>\n",
       "    </tr>\n",
       "  </thead>\n",
       "  <tbody>\n",
       "    <tr>\n",
       "      <td>1</td>\n",
       "      <td>0.317200</td>\n",
       "      <td>0.321949</td>\n",
       "      <td>0.880000</td>\n",
       "      <td>0.836842</td>\n",
       "      <td>0.969512</td>\n",
       "      <td>0.898305</td>\n",
       "    </tr>\n",
       "    <tr>\n",
       "      <td>2</td>\n",
       "      <td>0.139100</td>\n",
       "      <td>0.365503</td>\n",
       "      <td>0.903333</td>\n",
       "      <td>0.857143</td>\n",
       "      <td>0.987805</td>\n",
       "      <td>0.917847</td>\n",
       "    </tr>\n",
       "    <tr>\n",
       "      <td>3</td>\n",
       "      <td>0.158400</td>\n",
       "      <td>0.289082</td>\n",
       "      <td>0.916667</td>\n",
       "      <td>0.892655</td>\n",
       "      <td>0.963415</td>\n",
       "      <td>0.926686</td>\n",
       "    </tr>\n",
       "    <tr>\n",
       "      <td>4</td>\n",
       "      <td>0.108700</td>\n",
       "      <td>0.312099</td>\n",
       "      <td>0.916667</td>\n",
       "      <td>0.892655</td>\n",
       "      <td>0.963415</td>\n",
       "      <td>0.926686</td>\n",
       "    </tr>\n",
       "  </tbody>\n",
       "</table><p>"
      ],
      "text/plain": [
       "<IPython.core.display.HTML object>"
      ]
     },
     "metadata": {},
     "output_type": "display_data"
    },
    {
     "name": "stderr",
     "output_type": "stream",
     "text": [
      "/opt/anaconda3/lib/python3.12/site-packages/torch/utils/data/dataloader.py:692: UserWarning: 'pin_memory' argument is set as true but not supported on MPS now, device pinned memory won't be used.\n",
      "  warnings.warn(warn_msg)\n",
      "/opt/anaconda3/lib/python3.12/site-packages/torch/utils/data/dataloader.py:692: UserWarning: 'pin_memory' argument is set as true but not supported on MPS now, device pinned memory won't be used.\n",
      "  warnings.warn(warn_msg)\n",
      "/opt/anaconda3/lib/python3.12/site-packages/torch/utils/data/dataloader.py:692: UserWarning: 'pin_memory' argument is set as true but not supported on MPS now, device pinned memory won't be used.\n",
      "  warnings.warn(warn_msg)\n",
      "/opt/anaconda3/lib/python3.12/site-packages/torch/utils/data/dataloader.py:692: UserWarning: 'pin_memory' argument is set as true but not supported on MPS now, device pinned memory won't be used.\n",
      "  warnings.warn(warn_msg)\n"
     ]
    },
    {
     "data": {
      "text/html": [],
      "text/plain": [
       "<IPython.core.display.HTML object>"
      ]
     },
     "metadata": {},
     "output_type": "display_data"
    },
    {
     "name": "stderr",
     "output_type": "stream",
     "text": [
      "/opt/anaconda3/lib/python3.12/site-packages/torch/utils/data/dataloader.py:692: UserWarning: 'pin_memory' argument is set as true but not supported on MPS now, device pinned memory won't be used.\n",
      "  warnings.warn(warn_msg)\n"
     ]
    },
    {
     "name": "stdout",
     "output_type": "stream",
     "text": [
      "Training Set Accuracy: 0.974\n",
      "Training Set Precision: 0.964\n",
      "Training Set Recall: 0.99\n",
      "Training Set F1 score: 0.977\n",
      "Testing Set Accuracy: 0.917\n",
      "Testing Set Precision: 0.893\n",
      "Testing Set Recall: 0.963\n",
      "Testing Set F1 score: 0.927\n"
     ]
    }
   ],
   "source": [
    "training_args2 = TrainingArguments(\n",
    "    output_dir=\"./results\",\n",
    "    num_train_epochs=4,\n",
    "    per_device_train_batch_size=16,\n",
    "    per_device_eval_batch_size=64,\n",
    "    eval_strategy=\"epoch\",\n",
    "    save_strategy=\"epoch\",\n",
    "    learning_rate=2e-5,\n",
    "    weight_decay=0.01,\n",
    "    logging_dir=\"./logs\",\n",
    "    logging_steps=10\n",
    ")\n",
    "\n",
    "# Switch the model to training mode, enabling dropout etc layers.\n",
    "model2.train()\n",
    "\n",
    "trainer2 = Trainer(\n",
    "    model=model2,\n",
    "    args=training_args2,\n",
    "    train_dataset=train_ds2,\n",
    "    eval_dataset=test_ds2,\n",
    "    processing_class=tokenizer2,\n",
    "    data_collator=DataCollatorWithPadding(tokenizer2),\n",
    "    compute_metrics=compute_metrics2\n",
    ")\n",
    "\n",
    "trainer2.train()\n",
    "\n",
    "# Model evaluation\n",
    "# Switch the model to evaluation mode, disabling dropout etc layers.\n",
    "model2.eval()\n",
    "# Evaluate the datasets.\n",
    "train_results2 = trainer2.evaluate(train_ds2)\n",
    "test_results2 = trainer2.evaluate(test_ds2)\n",
    "def display_evaluation(setname, results):\n",
    "    print(f\"{setname} Set Accuracy:\", round(results[\"eval_accuracy\"], 3))\n",
    "    print(f\"{setname} Set Precision:\", round(results[\"eval_precision\"], 3))\n",
    "    print(f\"{setname} Set Recall:\", round(results[\"eval_recall\"], 3))\n",
    "    print(f\"{setname} Set F1 score:\", round(results[\"eval_f1\"], 3))\n",
    "display_evaluation(\"Training\", train_results2)\n",
    "display_evaluation(\"Testing\", test_results2)"
   ]
  },
  {
   "cell_type": "markdown",
   "id": "f0bf4b32-f5b0-46ab-b215-368767ae2f75",
   "metadata": {},
   "source": [
    "# Early stopping"
   ]
  },
  {
   "cell_type": "code",
   "execution_count": 90,
   "id": "a39bac14-09bd-4510-9ccc-c3c6513e7d6b",
   "metadata": {},
   "outputs": [],
   "source": [
    "_, X_small, _, y_small = train_test_split(X, y, stratify=y, random_state=random_state)\n",
    "X_small_train, X_small_test, y_small_train, y_small_test = train_test_split(\n",
    "    X_small, y_small, stratify=y_small, test_size=0.3, random_state=random_state)\n",
    "small_train_df = pd.DataFrame({\"text\": X_small_train, \"label\": y_small_train})\n",
    "small_test_df = pd.DataFrame({\"text\": X_small_test, \"label\": y_small_test})\n",
    "small_train_ds = Dataset.from_pandas(small_train_df)\n",
    "small_test_ds = Dataset.from_pandas(small_test_df)\n",
    "small_train_ds = small_train_ds.map(tokenize2, batched=True)\n",
    "small_test_ds = small_test_ds.map(tokenize2, batched=True)\n",
    "print(\"Small training set size:\", len(small_train_df))\n",
    "print(\"Small testing set size:\", len(small_test_df))\n",
    "\n",
    "# small_model = RobertaForSequenceClassification.from_pretrained(\n",
    "#     model_name,\n",
    "#     num_labels=df_subsampled[\"label\"].nunique(),\n",
    "#     problem_type=\"single_label_classification\")\n",
    "# small_model.train()\n",
    "\n",
    "# small_training_args = TrainingArguments(\n",
    "#     output_dir=\"./results\",\n",
    "#     num_train_epochs=50,\n",
    "#     per_device_train_batch_size=16,\n",
    "#     per_device_eval_batch_size=64,\n",
    "#     eval_strategy=\"epoch\",\n",
    "#     save_strategy=\"epoch\",\n",
    "#     learning_rate=2e-5,\n",
    "#     weight_decay=0.01,\n",
    "#     logging_dir=\"./logs\",\n",
    "#     logging_steps=10,\n",
    "#     # Added for early stopping.\n",
    "training_args2 = TrainingArguments(\n",
    "    output_dir=\"./results\",\n",
    "    num_train_epochs=50,\n",
    "    per_device_train_batch_size=16,\n",
    "    per_device_eval_batch_size=64,\n",
    "    eval_strategy=\"epoch\",\n",
    "    save_strategy=\"epoch\",\n",
    "    learning_rate=2e-5,\n",
    "    weight_decay=0.01,\n",
    "    logging_dir=\"./logs\",\n",
    "    logging_steps=10,\n",
    "    metric_for_best_model = \"loss\",\n",
    "    load_best_model_at_end = True\n",
    ")\n",
    "\n",
    "\n",
    "trainer2 = Trainer(\n",
    "    model=model2,\n",
    "    args=training_args2,\n",
    "    train_dataset=train_ds,\n",
    "    eval_dataset=test_ds,\n",
    "    processing_class=tokenizer2,\n",
    "    data_collator=DataCollatorWithPadding(tokenizer2),\n",
    "    compute_metrics=compute_metrics2,\n",
    "    callbacks = [EarlyStoppingCallback(early_stopping_patience=3)],\n",
    ")\n",
    "trainer2.train()"
   ]
  },
  {
   "cell_type": "markdown",
   "id": "0843fee1-03fd-49db-8d38-ba76f07a2a71",
   "metadata": {},
   "source": [
    "# Examine Attention Weights"
   ]
  },
  {
   "cell_type": "code",
   "execution_count": 91,
   "id": "2e586d7f-9f00-4c73-ae38-1d4c22863fa4",
   "metadata": {},
   "outputs": [],
   "source": [
    "# Returns (matrix, tokens)\n",
    "def compute_attention_matrix(tokenizer, model, text):\n",
    "    # Feed into the model, you could also grab the token embedding directly\n",
    "    # from the dataset, in which case this step would be unnecessary. We want\n",
    "    # the output in Tensor format that we can feed to the model, so we use\n",
    "    # return_tensors=\"pt\" (PyTorch Tensor). Lastly, send the tensor to\n",
    "    # whichever device the model is located on. This is unnecessary if you\n",
    "    # are running purely on the CPU, but needed for models on GPUs.\n",
    "    tokens = tokenizer(text, return_tensors=\"pt\").to(model.device)\n",
    "    # We use torch.no_grad() to ensure the weights in the model are unchanged.\n",
    "    with torch.no_grad():\n",
    "        pred = model(**tokens, output_attentions=True)\n",
    "    # Stack layers. Depending on your model, this may have no effect.\n",
    "    # Move it back to the GPU if it was previously on the GPU.\n",
    "    attentions = torch.stack(pred.attentions).cpu()\n",
    "    # Remove the batch dimension, as there is only a zero value there.\n",
    "    attentions = attentions.squeeze(1)\n",
    "    # Average over the transformer layers and heads.\n",
    "    attentions = attentions.mean(dim=0).mean(dim=0)\n",
    "    # attentions now contains a matrix of importance from every token to every\n",
    "    # other token. e.g. if the message contained 10 tokens, it would be 10x10.\n",
    "    # Select the predicted class.\n",
    "    pred_class = pred.logits.cpu().argmax(-1).item()\n",
    "    # Also return a string representation of the tokens in the message.\n",
    "    # Plotting the integer token IDs would not be very meaningful.\n",
    "    token_strs = tokenizer2.convert_ids_to_tokens(tokens[\"input_ids\"][0])\n",
    "    return (attentions, pred_class, token_strs)"
   ]
  },
  {
   "cell_type": "code",
   "execution_count": 92,
   "id": "8944c9bf-f018-4231-9004-b93aa6d4308e",
   "metadata": {},
   "outputs": [],
   "source": [
    "def plot_attention(attentions, tokens, title):\n",
    "# Enlarge figure to take up more of the width.\n",
    "    plt.figure(figsize=(10, 8))\n",
    "    plt.title(title)\n",
    "    # Plot heatmap.\n",
    "    sns.heatmap(\n",
    "    attentions, # Plot our attention matrix.\n",
    "    xticklabels=tokens, # Display token names on X axis.\n",
    "    yticklabels=tokens, # Display token names on Y axis.\n",
    "    cmap='binary', # Black for low, white for high\n",
    "    cbar=True # Display colour bar.\n",
    "    )\n",
    "    plt.show()"
   ]
  },
  {
   "cell_type": "code",
   "execution_count": 93,
   "id": "c3ac0b6d-06b9-48a2-96b2-bcfd98d602b2",
   "metadata": {},
   "outputs": [],
   "source": [
    "def display_attention_matrix(tokenizer, model, text):\n",
    "    attention, pred_class, tokens = compute_attention_matrix(tokenizer, model, text)\n",
    "    pred_label = \"Positive\" if pred_class == 1 else \"Negative\"\n",
    "    plot_attention(attention, tokens, text + f\"\\nPredicted class: {pred_label}\")"
   ]
  },
  {
   "cell_type": "code",
   "execution_count": 94,
   "id": "fbdb3043-3464-4f11-8065-2f8caa7fae3b",
   "metadata": {},
   "outputs": [
    {
     "data": {
      "image/png": "[encoded data removed]",
      "text/plain": [
       "<Figure size 1000x800 with 2 Axes>"
      ]
     },
     "metadata": {},
     "output_type": "display_data"
    }
   ],
   "source": [
    "display_attention_matrix(tokenizer2, model2, df[df[\"label\"] == 0].iloc[0][\"text\"])"
   ]
  },
  {
   "cell_type": "markdown",
   "id": "7a6abfe1-552e-4d11-9c5c-69771ed921d4",
   "metadata": {},
   "source": [
    "# ROC"
   ]
  },
  {
   "cell_type": "code",
   "execution_count": 95,
   "id": "8030d21d-aaa2-4512-bb74-b824daeedccc",
   "metadata": {},
   "outputs": [
    {
     "name": "stderr",
     "output_type": "stream",
     "text": [
      "/opt/anaconda3/lib/python3.12/site-packages/torch/utils/data/dataloader.py:692: UserWarning: 'pin_memory' argument is set as true but not supported on MPS now, device pinned memory won't be used.\n",
      "  warnings.warn(warn_msg)\n",
      "/opt/anaconda3/lib/python3.12/site-packages/torch/utils/data/dataloader.py:692: UserWarning: 'pin_memory' argument is set as true but not supported on MPS now, device pinned memory won't be used.\n",
      "  warnings.warn(warn_msg)\n"
     ]
    }
   ],
   "source": [
    "pred = trainer.predict(test_ds)\n",
    "pred2 = trainer2.predict(test_ds2)"
   ]
  },
  {
   "cell_type": "code",
   "execution_count": 96,
   "id": "62b23cb0-3990-4411-b71e-417062b3e2c3",
   "metadata": {},
   "outputs": [
    {
     "name": "stderr",
     "output_type": "stream",
     "text": [
      "/var/folders/h8/0ky72nmj19j1n2cc_zs0_7pm0000gn/T/ipykernel_3899/4158278439.py:2: UserWarning: Implicit dimension choice for softmax has been deprecated. Change the call to include dim=X as an argument.\n",
      "  pred_probs = torch.nn.functional.softmax(torch.Tensor(pred.predictions)).numpy()\n",
      "/var/folders/h8/0ky72nmj19j1n2cc_zs0_7pm0000gn/T/ipykernel_3899/4158278439.py:3: UserWarning: Implicit dimension choice for softmax has been deprecated. Change the call to include dim=X as an argument.\n",
      "  pred_probs2 = torch.nn.functional.softmax(torch.Tensor(pred2.predictions)).numpy()\n"
     ]
    }
   ],
   "source": [
    "# Convert to PyTorch tensor, apply softmax, and convert back to a numpy array.\n",
    "pred_probs = torch.nn.functional.softmax(torch.Tensor(pred.predictions)).numpy()\n",
    "pred_probs2 = torch.nn.functional.softmax(torch.Tensor(pred2.predictions)).numpy()"
   ]
  },
  {
   "cell_type": "code",
   "execution_count": 97,
   "id": "d023523b-bda6-413c-b97c-85f0de6e2419",
   "metadata": {},
   "outputs": [],
   "source": [
    "roc_index_nn = roc_auc_score(y_test, pred_probs[:, 1])\n",
    "roc_index_nn2 = roc_auc_score(y_test, pred_probs2[:, 1])"
   ]
  },
  {
   "cell_type": "code",
   "execution_count": 98,
   "id": "a5578ce5-4398-4c7a-b830-827eb5e47904",
   "metadata": {},
   "outputs": [
    {
     "data": {
      "image/png": "[encoded data removed]",
      "text/plain": [
       "<Figure size 640x480 with 1 Axes>"
      ]
     },
     "metadata": {},
     "output_type": "display_data"
    }
   ],
   "source": [
    "# Compute the ROC curve.\n",
    "bertweet_nn, tpr_bertweet, bertweet_thresholds_nn = roc_curve(y_test, pred_probs[:,1])\n",
    "twitter_nn, tpr_twitter, twitter_thresholds_nn = roc_curve(y_test, pred_probs2[:,1])\n",
    "# And plot it on a line graph, similarly to what we did in previous weeks.\n",
    "plt.plot(bertweet_nn, tpr_bertweet, label=\"BERTweet Model: {:.3f}\".format(roc_index_nn),\n",
    "color='red', lw=0.5)\n",
    "plt.plot(twitter_nn, tpr_twitter, label=\"twitter/twhin-bert-base Model: {:.3f}\".format(roc_index_nn2),\n",
    "color='green', lw=0.5)\n",
    "plt.plot([0, 1], [0, 1], color='navy', lw=0.5, linestyle='--')\n",
    "plt.xlim([0.0, 1.0])\n",
    "plt.ylim([0.0, 1.0])\n",
    "plt.xlabel(\"False Positive Rate\")\n",
    "plt.ylabel(\"True Positive Rate\")\n",
    "plt.title(\"Receiver operating characteristic for positive sentiment\")\n",
    "plt.legend(loc=\"lower right\")\n",
    "plt.show()"
   ]
  },
  {
   "cell_type": "markdown",
   "id": "41dec149-0fcb-49f4-b1ab-84e42aa25725",
   "metadata": {},
   "source": [
    "# Regression Model"
   ]
  },
  {
   "cell_type": "code",
   "execution_count": 99,
   "id": "97a5649d-ad49-4f8b-8248-512b58825772",
   "metadata": {},
   "outputs": [
    {
     "name": "stdout",
     "output_type": "stream",
     "text": [
      "Size of training set: 700\n",
      "Size of testing set: 300\n",
      "Unique values in y_test_tfidf: [0 1]\n"
     ]
    }
   ],
   "source": [
    "import pandas as pd\n",
    "import numpy as np\n",
    "from sklearn.model_selection import train_test_split\n",
    "from sklearn.preprocessing import StandardScaler\n",
    "\n",
    "# Use the processed df with numeric labels instead of the original df_hydrogen\n",
    "df_tfidf = pd.read_csv('tfidf_features_small.csv')\n",
    "\n",
    "# Use the already processed df that has numeric labels (0, 1)\n",
    "df_tfidf['label'] = df['label'].values  # Use df (processed) instead of df_hydrogen (original)\n",
    "\n",
    "X_tfidf = df_tfidf.drop(columns=['label'])\n",
    "Y_tfidf = df_tfidf['label']\n",
    "\n",
    "random_state = 10\n",
    "test_set_size = 0.3 # 30%\n",
    "X_train_tfidf, X_test_tfidf, y_train_tfidf, y_test_tfidf = train_test_split(\n",
    "    X_tfidf, Y_tfidf, test_size=test_set_size, stratify=Y_tfidf, random_state=random_state)\n",
    "\n",
    "print(\"Size of training set:\", len(X_train_tfidf))\n",
    "print(\"Size of testing set:\", len(X_test_tfidf))\n",
    "print(\"Unique values in y_test_tfidf:\", np.unique(y_test_tfidf))"
   ]
  },
  {
   "cell_type": "code",
   "execution_count": 100,
   "id": "e5efd2cb-d494-4591-88e6-1b9fc39b93fb",
   "metadata": {},
   "outputs": [],
   "source": [
    "# from sklearn.preprocessing import StandardScaler\n",
    "# # initialise a standard scaler object\n",
    "# scaler = StandardScaler()\n",
    "# # visualise min, max, mean and standard dev of data before scaling\n",
    "# print(\"Before scaling\\n-------------\")\n",
    "# for i in range(5):\n",
    "#     col = X_train[:,i]\n",
    "#     print(\"Variable #{}: min {}, max {}, mean {:.2f} and std dev {:.2f}\".format(i,\n",
    "# min(col), max(col), np.mean(col), np.std(col)))\n",
    "# # learn the mean and std.dev of variables from training data\n",
    "# # then use the learned values to transform training data\n",
    "# X_train = scaler.fit_transform(X_train, y_train)\n",
    "# print(\"After scaling\\n-------------\")\n",
    "# for i in range(5):\n",
    "#     col = X_train[:,i]\n",
    "#     print(\"Variable #{}: min {}, max {}, mean {:.2f} and std dev {:.2f}\".format(i,\n",
    "# min(col), max(col), np.mean(col), np.std(col)))\n",
    "# # use the statistic that you learned from training to transform test data\n",
    "# # NEVER learn from test data, this is supposed to be a set of dataset\n",
    "# # that the model has never seen before\n",
    "# X_test = scaler.transform(X_test)"
   ]
  },
  {
   "cell_type": "code",
   "execution_count": 101,
   "id": "4e9f04dc-72f2-4c5f-a7c6-af222b0edc32",
   "metadata": {},
   "outputs": [
    {
     "data": {
      "text/html": [
       "<style>#sk-container-id-2 {\n",
       "  /* Definition of color scheme common for light and dark mode */\n",
       "  --sklearn-color-text: black;\n",
       "  --sklearn-color-line: gray;\n",
       "  /* Definition of color scheme for unfitted estimators */\n",
       "  --sklearn-color-unfitted-level-0: #fff5e6;\n",
       "  --sklearn-color-unfitted-level-1: #f6e4d2;\n",
       "  --sklearn-color-unfitted-level-2: #ffe0b3;\n",
       "  --sklearn-color-unfitted-level-3: chocolate;\n",
       "  /* Definition of color scheme for fitted estimators */\n",
       "  --sklearn-color-fitted-level-0: #f0f8ff;\n",
       "  --sklearn-color-fitted-level-1: #d4ebff;\n",
       "  --sklearn-color-fitted-level-2: #b3dbfd;\n",
       "  --sklearn-color-fitted-level-3: cornflowerblue;\n",
       "\n",
       "  /* Specific color for light theme */\n",
       "  --sklearn-color-text-on-default-background: var(--sg-text-color, var(--theme-code-foreground, var(--jp-content-font-color1, black)));\n",
       "  --sklearn-color-background: var(--sg-background-color, var(--theme-background, var(--jp-layout-color0, white)));\n",
       "  --sklearn-color-border-box: var(--sg-text-color, var(--theme-code-foreground, var(--jp-content-font-color1, black)));\n",
       "  --sklearn-color-icon: #696969;\n",
       "\n",
       "  @media (prefers-color-scheme: dark) {\n",
       "    /* Redefinition of color scheme for dark theme */\n",
       "    --sklearn-color-text-on-default-background: var(--sg-text-color, var(--theme-code-foreground, var(--jp-content-font-color1, white)));\n",
       "    --sklearn-color-background: var(--sg-background-color, var(--theme-background, var(--jp-layout-color0, #111)));\n",
       "    --sklearn-color-border-box: var(--sg-text-color, var(--theme-code-foreground, var(--jp-content-font-color1, white)));\n",
       "    --sklearn-color-icon: #878787;\n",
       "  }\n",
       "}\n",
       "\n",
       "#sk-container-id-2 {\n",
       "  color: var(--sklearn-color-text);\n",
       "}\n",
       "\n",
       "#sk-container-id-2 pre {\n",
       "  padding: 0;\n",
       "}\n",
       "\n",
       "#sk-container-id-2 input.sk-hidden--visually {\n",
       "  border: 0;\n",
       "  clip: rect(1px 1px 1px 1px);\n",
       "  clip: rect(1px, 1px, 1px, 1px);\n",
       "  height: 1px;\n",
       "  margin: -1px;\n",
       "  overflow: hidden;\n",
       "  padding: 0;\n",
       "  position: absolute;\n",
       "  width: 1px;\n",
       "}\n",
       "\n",
       "#sk-container-id-2 div.sk-dashed-wrapped {\n",
       "  border: 1px dashed var(--sklearn-color-line);\n",
       "  margin: 0 0.4em 0.5em 0.4em;\n",
       "  box-sizing: border-box;\n",
       "  padding-bottom: 0.4em;\n",
       "  background-color: var(--sklearn-color-background);\n",
       "}\n",
       "\n",
       "#sk-container-id-2 div.sk-container {\n",
       "  /* jupyter's `normalize.less` sets `[hidden] { display: none; }`\n",
       "     but bootstrap.min.css set `[hidden] { display: none !important; }`\n",
       "     so we also need the `!important` here to be able to override the\n",
       "     default hidden behavior on the sphinx rendered scikit-learn.org.\n",
       "     See: https://github.com/scikit-learn/scikit-learn/issues/21755 */\n",
       "  display: inline-block !important;\n",
       "  position: relative;\n",
       "}\n",
       "\n",
       "#sk-container-id-2 div.sk-text-repr-fallback {\n",
       "  display: none;\n",
       "}\n",
       "\n",
       "div.sk-parallel-item,\n",
       "div.sk-serial,\n",
       "div.sk-item {\n",
       "  /* draw centered vertical line to link estimators */\n",
       "  background-image: linear-gradient(var(--sklearn-color-text-on-default-background), var(--sklearn-color-text-on-default-background));\n",
       "  background-size: 2px 100%;\n",
       "  background-repeat: no-repeat;\n",
       "  background-position: center center;\n",
       "}\n",
       "\n",
       "/* Parallel-specific style estimator block */\n",
       "\n",
       "#sk-container-id-2 div.sk-parallel-item::after {\n",
       "  content: \"\";\n",
       "  width: 100%;\n",
       "  border-bottom: 2px solid var(--sklearn-color-text-on-default-background);\n",
       "  flex-grow: 1;\n",
       "}\n",
       "\n",
       "#sk-container-id-2 div.sk-parallel {\n",
       "  display: flex;\n",
       "  align-items: stretch;\n",
       "  justify-content: center;\n",
       "  background-color: var(--sklearn-color-background);\n",
       "  position: relative;\n",
       "}\n",
       "\n",
       "#sk-container-id-2 div.sk-parallel-item {\n",
       "  display: flex;\n",
       "  flex-direction: column;\n",
       "}\n",
       "\n",
       "#sk-container-id-2 div.sk-parallel-item:first-child::after {\n",
       "  align-self: flex-end;\n",
       "  width: 50%;\n",
       "}\n",
       "\n",
       "#sk-container-id-2 div.sk-parallel-item:last-child::after {\n",
       "  align-self: flex-start;\n",
       "  width: 50%;\n",
       "}\n",
       "\n",
       "#sk-container-id-2 div.sk-parallel-item:only-child::after {\n",
       "  width: 0;\n",
       "}\n",
       "\n",
       "/* Serial-specific style estimator block */\n",
       "\n",
       "#sk-container-id-2 div.sk-serial {\n",
       "  display: flex;\n",
       "  flex-direction: column;\n",
       "  align-items: center;\n",
       "  background-color: var(--sklearn-color-background);\n",
       "  padding-right: 1em;\n",
       "  padding-left: 1em;\n",
       "}\n",
       "\n",
       "\n",
       "/* Toggleable style: style used for estimator/Pipeline/ColumnTransformer box that is\n",
       "clickable and can be expanded/collapsed.\n",
       "- Pipeline and ColumnTransformer use this feature and define the default style\n",
       "- Estimators will overwrite some part of the style using the `sk-estimator` class\n",
       "*/\n",
       "\n",
       "/* Pipeline and ColumnTransformer style (default) */\n",
       "\n",
       "#sk-container-id-2 div.sk-toggleable {\n",
       "  /* Default theme specific background. It is overwritten whether we have a\n",
       "  specific estimator or a Pipeline/ColumnTransformer */\n",
       "  background-color: var(--sklearn-color-background);\n",
       "}\n",
       "\n",
       "/* Toggleable label */\n",
       "#sk-container-id-2 label.sk-toggleable__label {\n",
       "  cursor: pointer;\n",
       "  display: block;\n",
       "  width: 100%;\n",
       "  margin-bottom: 0;\n",
       "  padding: 0.5em;\n",
       "  box-sizing: border-box;\n",
       "  text-align: center;\n",
       "}\n",
       "\n",
       "#sk-container-id-2 label.sk-toggleable__label-arrow:before {\n",
       "  /* Arrow on the left of the label */\n",
       "  content: \"▸\";\n",
       "  float: left;\n",
       "  margin-right: 0.25em;\n",
       "  color: var(--sklearn-color-icon);\n",
       "}\n",
       "\n",
       "#sk-container-id-2 label.sk-toggleable__label-arrow:hover:before {\n",
       "  color: var(--sklearn-color-text);\n",
       "}\n",
       "\n",
       "/* Toggleable content - dropdown */\n",
       "\n",
       "#sk-container-id-2 div.sk-toggleable__content {\n",
       "  max-height: 0;\n",
       "  max-width: 0;\n",
       "  overflow: hidden;\n",
       "  text-align: left;\n",
       "  /* unfitted */\n",
       "  background-color: var(--sklearn-color-unfitted-level-0);\n",
       "}\n",
       "\n",
       "#sk-container-id-2 div.sk-toggleable__content.fitted {\n",
       "  /* fitted */\n",
       "  background-color: var(--sklearn-color-fitted-level-0);\n",
       "}\n",
       "\n",
       "#sk-container-id-2 div.sk-toggleable__content pre {\n",
       "  margin: 0.2em;\n",
       "  border-radius: 0.25em;\n",
       "  color: var(--sklearn-color-text);\n",
       "  /* unfitted */\n",
       "  background-color: var(--sklearn-color-unfitted-level-0);\n",
       "}\n",
       "\n",
       "#sk-container-id-2 div.sk-toggleable__content.fitted pre {\n",
       "  /* unfitted */\n",
       "  background-color: var(--sklearn-color-fitted-level-0);\n",
       "}\n",
       "\n",
       "#sk-container-id-2 input.sk-toggleable__control:checked~div.sk-toggleable__content {\n",
       "  /* Expand drop-down */\n",
       "  max-height: 200px;\n",
       "  max-width: 100%;\n",
       "  overflow: auto;\n",
       "}\n",
       "\n",
       "#sk-container-id-2 input.sk-toggleable__control:checked~label.sk-toggleable__label-arrow:before {\n",
       "  content: \"▾\";\n",
       "}\n",
       "\n",
       "/* Pipeline/ColumnTransformer-specific style */\n",
       "\n",
       "#sk-container-id-2 div.sk-label input.sk-toggleable__control:checked~label.sk-toggleable__label {\n",
       "  color: var(--sklearn-color-text);\n",
       "  background-color: var(--sklearn-color-unfitted-level-2);\n",
       "}\n",
       "\n",
       "#sk-container-id-2 div.sk-label.fitted input.sk-toggleable__control:checked~label.sk-toggleable__label {\n",
       "  background-color: var(--sklearn-color-fitted-level-2);\n",
       "}\n",
       "\n",
       "/* Estimator-specific style */\n",
       "\n",
       "/* Colorize estimator box */\n",
       "#sk-container-id-2 div.sk-estimator input.sk-toggleable__control:checked~label.sk-toggleable__label {\n",
       "  /* unfitted */\n",
       "  background-color: var(--sklearn-color-unfitted-level-2);\n",
       "}\n",
       "\n",
       "#sk-container-id-2 div.sk-estimator.fitted input.sk-toggleable__control:checked~label.sk-toggleable__label {\n",
       "  /* fitted */\n",
       "  background-color: var(--sklearn-color-fitted-level-2);\n",
       "}\n",
       "\n",
       "#sk-container-id-2 div.sk-label label.sk-toggleable__label,\n",
       "#sk-container-id-2 div.sk-label label {\n",
       "  /* The background is the default theme color */\n",
       "  color: var(--sklearn-color-text-on-default-background);\n",
       "}\n",
       "\n",
       "/* On hover, darken the color of the background */\n",
       "#sk-container-id-2 div.sk-label:hover label.sk-toggleable__label {\n",
       "  color: var(--sklearn-color-text);\n",
       "  background-color: var(--sklearn-color-unfitted-level-2);\n",
       "}\n",
       "\n",
       "/* Label box, darken color on hover, fitted */\n",
       "#sk-container-id-2 div.sk-label.fitted:hover label.sk-toggleable__label.fitted {\n",
       "  color: var(--sklearn-color-text);\n",
       "  background-color: var(--sklearn-color-fitted-level-2);\n",
       "}\n",
       "\n",
       "/* Estimator label */\n",
       "\n",
       "#sk-container-id-2 div.sk-label label {\n",
       "  font-family: monospace;\n",
       "  font-weight: bold;\n",
       "  display: inline-block;\n",
       "  line-height: 1.2em;\n",
       "}\n",
       "\n",
       "#sk-container-id-2 div.sk-label-container {\n",
       "  text-align: center;\n",
       "}\n",
       "\n",
       "/* Estimator-specific */\n",
       "#sk-container-id-2 div.sk-estimator {\n",
       "  font-family: monospace;\n",
       "  border: 1px dotted var(--sklearn-color-border-box);\n",
       "  border-radius: 0.25em;\n",
       "  box-sizing: border-box;\n",
       "  margin-bottom: 0.5em;\n",
       "  /* unfitted */\n",
       "  background-color: var(--sklearn-color-unfitted-level-0);\n",
       "}\n",
       "\n",
       "#sk-container-id-2 div.sk-estimator.fitted {\n",
       "  /* fitted */\n",
       "  background-color: var(--sklearn-color-fitted-level-0);\n",
       "}\n",
       "\n",
       "/* on hover */\n",
       "#sk-container-id-2 div.sk-estimator:hover {\n",
       "  /* unfitted */\n",
       "  background-color: var(--sklearn-color-unfitted-level-2);\n",
       "}\n",
       "\n",
       "#sk-container-id-2 div.sk-estimator.fitted:hover {\n",
       "  /* fitted */\n",
       "  background-color: var(--sklearn-color-fitted-level-2);\n",
       "}\n",
       "\n",
       "/* Specification for estimator info (e.g. \"i\" and \"?\") */\n",
       "\n",
       "/* Common style for \"i\" and \"?\" */\n",
       "\n",
       ".sk-estimator-doc-link,\n",
       "a:link.sk-estimator-doc-link,\n",
       "a:visited.sk-estimator-doc-link {\n",
       "  float: right;\n",
       "  font-size: smaller;\n",
       "  line-height: 1em;\n",
       "  font-family: monospace;\n",
       "  background-color: var(--sklearn-color-background);\n",
       "  border-radius: 1em;\n",
       "  height: 1em;\n",
       "  width: 1em;\n",
       "  text-decoration: none !important;\n",
       "  margin-left: 1ex;\n",
       "  /* unfitted */\n",
       "  border: var(--sklearn-color-unfitted-level-1) 1pt solid;\n",
       "  color: var(--sklearn-color-unfitted-level-1);\n",
       "}\n",
       "\n",
       ".sk-estimator-doc-link.fitted,\n",
       "a:link.sk-estimator-doc-link.fitted,\n",
       "a:visited.sk-estimator-doc-link.fitted {\n",
       "  /* fitted */\n",
       "  border: var(--sklearn-color-fitted-level-1) 1pt solid;\n",
       "  color: var(--sklearn-color-fitted-level-1);\n",
       "}\n",
       "\n",
       "/* On hover */\n",
       "div.sk-estimator:hover .sk-estimator-doc-link:hover,\n",
       ".sk-estimator-doc-link:hover,\n",
       "div.sk-label-container:hover .sk-estimator-doc-link:hover,\n",
       ".sk-estimator-doc-link:hover {\n",
       "  /* unfitted */\n",
       "  background-color: var(--sklearn-color-unfitted-level-3);\n",
       "  color: var(--sklearn-color-background);\n",
       "  text-decoration: none;\n",
       "}\n",
       "\n",
       "div.sk-estimator.fitted:hover .sk-estimator-doc-link.fitted:hover,\n",
       ".sk-estimator-doc-link.fitted:hover,\n",
       "div.sk-label-container:hover .sk-estimator-doc-link.fitted:hover,\n",
       ".sk-estimator-doc-link.fitted:hover {\n",
       "  /* fitted */\n",
       "  background-color: var(--sklearn-color-fitted-level-3);\n",
       "  color: var(--sklearn-color-background);\n",
       "  text-decoration: none;\n",
       "}\n",
       "\n",
       "/* Span, style for the box shown on hovering the info icon */\n",
       ".sk-estimator-doc-link span {\n",
       "  display: none;\n",
       "  z-index: 9999;\n",
       "  position: relative;\n",
       "  font-weight: normal;\n",
       "  right: .2ex;\n",
       "  padding: .5ex;\n",
       "  margin: .5ex;\n",
       "  width: min-content;\n",
       "  min-width: 20ex;\n",
       "  max-width: 50ex;\n",
       "  color: var(--sklearn-color-text);\n",
       "  box-shadow: 2pt 2pt 4pt #999;\n",
       "  /* unfitted */\n",
       "  background: var(--sklearn-color-unfitted-level-0);\n",
       "  border: .5pt solid var(--sklearn-color-unfitted-level-3);\n",
       "}\n",
       "\n",
       ".sk-estimator-doc-link.fitted span {\n",
       "  /* fitted */\n",
       "  background: var(--sklearn-color-fitted-level-0);\n",
       "  border: var(--sklearn-color-fitted-level-3);\n",
       "}\n",
       "\n",
       ".sk-estimator-doc-link:hover span {\n",
       "  display: block;\n",
       "}\n",
       "\n",
       "/* \"?\"-specific style due to the `<a>` HTML tag */\n",
       "\n",
       "#sk-container-id-2 a.estimator_doc_link {\n",
       "  float: right;\n",
       "  font-size: 1rem;\n",
       "  line-height: 1em;\n",
       "  font-family: monospace;\n",
       "  background-color: var(--sklearn-color-background);\n",
       "  border-radius: 1rem;\n",
       "  height: 1rem;\n",
       "  width: 1rem;\n",
       "  text-decoration: none;\n",
       "  /* unfitted */\n",
       "  color: var(--sklearn-color-unfitted-level-1);\n",
       "  border: var(--sklearn-color-unfitted-level-1) 1pt solid;\n",
       "}\n",
       "\n",
       "#sk-container-id-2 a.estimator_doc_link.fitted {\n",
       "  /* fitted */\n",
       "  border: var(--sklearn-color-fitted-level-1) 1pt solid;\n",
       "  color: var(--sklearn-color-fitted-level-1);\n",
       "}\n",
       "\n",
       "/* On hover */\n",
       "#sk-container-id-2 a.estimator_doc_link:hover {\n",
       "  /* unfitted */\n",
       "  background-color: var(--sklearn-color-unfitted-level-3);\n",
       "  color: var(--sklearn-color-background);\n",
       "  text-decoration: none;\n",
       "}\n",
       "\n",
       "#sk-container-id-2 a.estimator_doc_link.fitted:hover {\n",
       "  /* fitted */\n",
       "  background-color: var(--sklearn-color-fitted-level-3);\n",
       "}\n",
       "</style><div id=\"sk-container-id-2\" class=\"sk-top-container\"><div class=\"sk-text-repr-fallback\"><pre>LogisticRegression(random_state=10)</pre><b>In a Jupyter environment, please rerun this cell to show the HTML representation or trust the notebook. <br />On GitHub, the HTML representation is unable to render, please try loading this page with nbviewer.org.</b></div><div class=\"sk-container\" hidden><div class=\"sk-item\"><div class=\"sk-estimator fitted sk-toggleable\"><input class=\"sk-toggleable__control sk-hidden--visually\" id=\"sk-estimator-id-2\" type=\"checkbox\" checked><label for=\"sk-estimator-id-2\" class=\"sk-toggleable__label fitted sk-toggleable__label-arrow fitted\">&nbsp;&nbsp;LogisticRegression<a class=\"sk-estimator-doc-link fitted\" rel=\"noreferrer\" target=\"_blank\" href=\"https://scikit-learn.org/1.5/modules/generated/sklearn.linear_model.LogisticRegression.html\">?<span>Documentation for LogisticRegression</span></a><span class=\"sk-estimator-doc-link fitted\">i<span>Fitted</span></span></label><div class=\"sk-toggleable__content fitted\"><pre>LogisticRegression(random_state=10)</pre></div> </div></div></div></div>"
      ],
      "text/plain": [
       "LogisticRegression(random_state=10)"
      ]
     },
     "execution_count": 101,
     "metadata": {},
     "output_type": "execute_result"
    }
   ],
   "source": [
    "from sklearn.linear_model import LogisticRegression\n",
    "model_lr = LogisticRegression(random_state=random_state)\n",
    "# fit it to training data\n",
    "model_lr.fit(X_train_tfidf, y_train_tfidf)"
   ]
  },
  {
   "cell_type": "code",
   "execution_count": 102,
   "id": "4fb35a3f-0909-458e-a671-e3a6f67a0547",
   "metadata": {},
   "outputs": [
    {
     "name": "stdout",
     "output_type": "stream",
     "text": [
      "training accuracy: 0.99\n",
      "testing accuracy: 0.9033333333333333\n",
      "              precision    recall  f1-score   support\n",
      "\n",
      "           0       0.97      0.82      0.88       136\n",
      "           1       0.86      0.98      0.92       164\n",
      "\n",
      "    accuracy                           0.90       300\n",
      "   macro avg       0.92      0.90      0.90       300\n",
      "weighted avg       0.91      0.90      0.90       300\n",
      "\n"
     ]
    }
   ],
   "source": [
    "from sklearn.metrics import classification_report\n",
    "print(\"training accuracy:\", model_lr.score(X_train_tfidf, y_train_tfidf))\n",
    "print(\"testing accuracy:\", model_lr.score(X_test_tfidf, y_test_tfidf))\n",
    "\n",
    "y_pred = model_lr.predict(X_test_tfidf)\n",
    "print(classification_report(y_test_tfidf, y_pred))"
   ]
  },
  {
   "cell_type": "code",
   "execution_count": 103,
   "id": "b525a16d-00f7-4bb7-8ada-aa38420039aa",
   "metadata": {},
   "outputs": [],
   "source": [
    "y_pred_proba_lr = model_lr.predict_proba(X_test_tfidf)\n",
    "roc_index_lr = roc_auc_score(y_test_tfidf, y_pred_proba_lr[:, 1])\n",
    "\n",
    "# Now compute ROC curve for logistic regression\n",
    "fpr_lr, tpr_lr, thresholds_lr = roc_curve(y_test_tfidf, y_pred_proba_lr[:, 1])"
   ]
  },
  {
   "cell_type": "code",
   "execution_count": 104,
   "id": "8419471d-f4bc-413f-a70d-83a32da0b0ce",
   "metadata": {},
   "outputs": [
    {
     "data": {
      "image/png": "[encoded data removed]",
      "text/plain": [
       "<Figure size 640x480 with 1 Axes>"
      ]
     },
     "metadata": {},
     "output_type": "display_data"
    }
   ],
   "source": [
    "# Compute the ROC curve for all models using the correct y_test\n",
    "# Make sure all models use the same test set from the BERT models\n",
    "plt.plot(bertweet_nn, tpr_bertweet, label=\"BERTweet Model: {:.3f}\".format(roc_index_nn),\n",
    "         color='red', lw=2)\n",
    "# plt.plot(twitter_nn, tpr_twitter, label=\"twitter/twhin-bert-base Model: {:.3f}\".format(roc_index_nn2),\n",
    "#          color='green', lw=2)\n",
    "plt.plot(fpr_lr, tpr_lr, label=\"Logistic Regression (TF-IDF): {:.3f}\".format(roc_index_lr),\n",
    "         color='blue', lw=2)\n",
    "plt.plot([0, 1], [0, 1], color='navy', lw=1, linestyle='--', alpha=0.8)\n",
    "plt.xlim([0.0, 1.0])\n",
    "plt.ylim([0.0, 1.0])\n",
    "plt.xlabel(\"False Positive Rate\")\n",
    "plt.ylabel(\"True Positive Rate\")\n",
    "plt.title(\"ROC Comparison: BERT Models vs Logistic Regression\")\n",
    "plt.legend(loc=\"lower right\")\n",
    "plt.grid(True, alpha=0.3)\n",
    "plt.show()"
   ]
  },
  {
   "cell_type": "code",
   "execution_count": 105,
   "id": "a0d69d56-15a7-47cb-a979-ca2102d7f239",
   "metadata": {},
   "outputs": [
    {
     "name": "stdout",
     "output_type": "stream",
     "text": [
      "ROC index on test for `model_lr`: 0.9739508608321378\n",
      "ROC index on test for `BERTweet`: 0.9764616212338593\n"
     ]
    }
   ],
   "source": [
    "from sklearn.metrics import roc_auc_score\n",
    "y_pred_proba_lr = model_lr.predict_proba(X_test_tfidf)\n",
    "bertweet_nn, tpr_bertweet, bertweet_thresholds_nn = roc_curve(y_test_tfidf, pred_probs[:,1])\n",
    "roc_index_lr = roc_auc_score(y_test_tfidf, y_pred_proba_lr[:, 1])\n",
    "print(\"ROC index on test for `model_lr`:\", roc_index_lr)\n",
    "print(\"ROC index on test for `BERTweet`:\", roc_index_nn)\n"
   ]
  }
 ],
 "metadata": {
  "kernelspec": {
   "display_name": "Python [conda env:base] *",
   "language": "python",
   "name": "conda-base-py"
  },
  "language_info": {
   "codemirror_mode": {
    "name": "ipython",
    "version": 3
   },
   "file_extension": ".py",
   "mimetype": "text/x-python",
   "name": "python",
   "nbconvert_exporter": "python",
   "pygments_lexer": "ipython3",
   "version": "3.12.7"
  }
 },
 "nbformat": 4,
 "nbformat_minor": 5
}
